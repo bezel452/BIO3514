{
 "cells": [
  {
   "cell_type": "code",
   "execution_count": 1,
   "metadata": {},
   "outputs": [],
   "source": [
    "import csv\n",
    "import pandas as pd\n",
    "import numpy as np\n",
    "\n",
    "with open('D:/data/diseases/mid-N.C.csv','r') as f:\n",
    "    reader = csv.reader(f)\n",
    "    column = [row[1] for row in reader]\n",
    "#     print(column)"
   ]
  },
  {
   "cell_type": "code",
   "execution_count": 13,
   "metadata": {},
   "outputs": [],
   "source": [
    "Data = {}\n",
    "DataFrame = pd.DataFrame(Data,columns=[\"nc\"])\n",
    "DataFrame.to_csv(\"D:/data/diseases/test.csv\", index=False, sep=',') "
   ]
  },
  {
   "cell_type": "code",
   "execution_count": 16,
   "metadata": {},
   "outputs": [],
   "source": [
    "Data = {}\n",
    "DataFrame = pd.DataFrame(Data,columns=[\"nc\",\"nc2\"])\n",
    "DataFrame.to_csv(\"D:/data/diseases/test.csv\", index=False, sep=',') "
   ]
  },
  {
   "cell_type": "code",
   "execution_count": 2,
   "metadata": {},
   "outputs": [
    {
     "data": {
      "text/plain": [
       "['7.7', '0.04', '3.33']"
      ]
     },
     "execution_count": 2,
     "metadata": {},
     "output_type": "execute_result"
    }
   ],
   "source": [
    "newcol=[]\n",
    "# for i in range(3173)\n",
    "for i in range(3):\n",
    "    str=column[i]\n",
    "    str2=str.split(' ')\n",
    "    str2[0]\n",
    "    newcol.append(str2[0])\n",
    "newcol"
   ]
  },
  {
   "cell_type": "code",
   "execution_count": 18,
   "metadata": {},
   "outputs": [],
   "source": [
    "dp={}\n",
    "for i in range(3173):\n",
    "    str=column[i]\n",
    "    str2=str.split('-')\n",
    "    dp['nc']=str2[0]\n",
    "    try:\n",
    "        dp['nc2']=str2[1]\n",
    "    except IndexError:\n",
    "        dp['nc2']=-1\n",
    "    df=pd.DataFrame([dp])\n",
    "    df.to_csv('D:/data/diseases/test.csv', mode='a', index=False,header=False)"
   ]
  },
  {
   "cell_type": "code",
   "execution_count": 7,
   "metadata": {},
   "outputs": [
    {
     "name": "stdout",
     "output_type": "stream",
     "text": [
      "{'nc': ['7.7', '0.04', '3.33']}\n",
      "                  nc\n",
      "0  [7.7, 0.04, 3.33]\n"
     ]
    }
   ],
   "source": [
    "dp={}\n",
    "dp['nc']=newcol\n",
    "print(dp)\n",
    "df=pd.DataFrame([dp])\n",
    "print(df)\n",
    "df.to_csv('D:/data/diseases/test.csv', mode='a', index=False,header=False)"
   ]
  },
  {
   "cell_type": "code",
   "execution_count": null,
   "metadata": {},
   "outputs": [],
   "source": [
    "with open('D:/data/diseases/mid-N.C.csv','r',encoding='utf-8',errors='ignore') as f:\n",
    "    for i in range(100):\n",
    "        byt=f.readline()\n",
    "        print(byt)"
   ]
  },
  {
   "cell_type": "code",
   "execution_count": 39,
   "metadata": {},
   "outputs": [
    {
     "name": "stdout",
     "output_type": "stream",
     "text": [
      "['', '15.0 (0.0-30.0)uM', '4.4 +/- 9.4uM', '3.0 +/- 2.3uM', '0.028 +/- 0.018uM', '0.0079 +/- 0.0056uM', '0.090 +/- 0.073uM', '0.35 +/- 0.21uM', '0.059 +/- 0.045uM', '0.022 +/- 0.014uM', '0.18 +/- 0.45uM', '0.49 +/- 0.46uM', '0.18 +/- 0.044uM', '0.88 +/- 0.14uM', '1.9 +/- 0.35uM']\n"
     ]
    }
   ],
   "source": [
    "with open('D:/data/diseases/mid-mname-A.C/Thyroidcancer.csv','r') as f:\n",
    "    reader = csv.reader(f)\n",
    "    column = [row[4] for row in reader]\n",
    "    print(column)"
   ]
  },
  {
   "cell_type": "code",
   "execution_count": 40,
   "metadata": {},
   "outputs": [],
   "source": [
    "Data = {}\n",
    "DataFrame = pd.DataFrame(Data,columns=[\"ab_c\"])\n",
    "DataFrame.to_csv(\"D:/data/diseases/test.csv\", index=False, sep=',') \n",
    "dp={}\n",
    "for i in range(len(column)):\n",
    "    str=column[i]\n",
    "    str2=str.split(' ')\n",
    "    dp['nc']=str2[0]\n",
    "    df=pd.DataFrame([dp])\n",
    "    df.to_csv('D:/data/diseases/test.csv', mode='a', index=False,header=False)"
   ]
  },
  {
   "cell_type": "code",
   "execution_count": 2,
   "metadata": {},
   "outputs": [],
   "source": [
    "with open('D:/data/simplify.ipynb','r',encoding='utf-8',errors='ignore') as f:\n",
    "    for i in range(5000):\n",
    "        byt=f.readline()\n",
    "#         print(byt)"
   ]
  },
  {
   "cell_type": "code",
   "execution_count": 4,
   "metadata": {
    "scrolled": true
   },
   "outputs": [],
   "source": [
    "# with open('D:/data/diseases/mid-N.C.csv','r') as f:\n",
    "#     reader = csv.reader(f)\n",
    "#     column = [row[0] for row in reader]\n",
    "#     print(column)\n",
    "# with open('D:/data/diseases/keggid.csv','r') as f:\n",
    "#     reader = csv.reader(f)\n",
    "#     column2 = [row[0] for row in reader]\n",
    "#     print(column2)\n",
    "    \n",
    "# for i in range(len(column)):\n",
    "#     if(column[i] not in column2):\n",
    "#         print(column[i])"
   ]
  },
  {
   "cell_type": "code",
   "execution_count": 99,
   "metadata": {},
   "outputs": [],
   "source": [
    "with open('D:/data/diseases/keggid.csv','r') as f:\n",
    "    reader = csv.reader(f)\n",
    "    column = [row[0] for row in reader]\n",
    "    \n",
    "with open('D:/data/diseases/keggid.csv','r') as f:\n",
    "    reader = csv.reader(f)\n",
    "    column1 = [row[1] for row in reader]\n",
    "#     print(column1)\n",
    "    \n",
    "with open('D:/data/diseases/keggid.csv','r') as f:\n",
    "    reader = csv.reader(f)\n",
    "    column2 = [row[2] for row in reader]\n",
    "#     print(column2)\n",
    "    \n",
    "with open('D:/data/diseases/mid-N.C.csv','r') as f2:\n",
    "    reader = csv.reader(f2)\n",
    "    columnx = [row[0] for row in reader]\n",
    "\n",
    "with open('D:/data/diseases/new.csv','w') as f4:\n",
    "    csvw = csv.writer(f4)#写入一行数据\n",
    "    for i in range(len(columnx)):\n",
    "#     for i in range(50):\n",
    "        data=[]\n",
    "        if(columnx[i] in column):\n",
    "            j=column.index(columnx[i])\n",
    "            data.append(column[j])\n",
    "            data.append(column1[j])\n",
    "            data.append(column2[j])\n",
    "            csvw.writerow(data)\n",
    "        if(columnx[i] not in column):\n",
    "            data.append(columnx[i])\n",
    "            csvw.writerow(data)\n",
    "#             f4.write('\\t'.join(data)+'\\n')\n",
    "            \n"
   ]
  },
  {
   "cell_type": "code",
   "execution_count": null,
   "metadata": {},
   "outputs": [],
   "source": []
  }
 ],
 "metadata": {
  "kernelspec": {
   "display_name": "Python [conda env:python38]",
   "language": "python",
   "name": "python38"
  },
  "language_info": {
   "codemirror_mode": {
    "name": "ipython",
    "version": 3
   },
   "file_extension": ".py",
   "mimetype": "text/x-python",
   "name": "python",
   "nbconvert_exporter": "python",
   "pygments_lexer": "ipython3",
   "version": "3.7.13"
  }
 },
 "nbformat": 4,
 "nbformat_minor": 2
}
